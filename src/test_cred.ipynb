{
 "cells": [
  {
   "cell_type": "code",
   "execution_count": 1,
   "metadata": {},
   "outputs": [],
   "source": [
    "import os\n",
    "from dotenv import load_dotenv\n",
    "\n",
    "load_dotenv()\n",
    "\n",
    "username = os.getenv(\"SFUSERNAME\")\n",
    "password = os.getenv(\"SFPASSWORD\")\n",
    "security_token = os.getenv(\"SECURITY_TOKEN\")\n",
    "consumer_key = os.getenv(\"SF_CON_KEY\")\n",
    "consumer_secret = os.getenv(\"SF_CON_SECRET\")"
   ]
  },
  {
   "cell_type": "code",
   "execution_count": null,
   "metadata": {},
   "outputs": [],
   "source": [
    "from simple_salesforce import Salesforce\n",
    "\n",
    "sf = Salesforce(\n",
    "            username=username,\n",
    "            password=password,\n",
    "            consumer_key=consumer_key,\n",
    "            consumer_secret=consumer_secret,\n",
    "            domain=\"test\"\n",
    ")\n",
    "\n",
    "print(\"Organization Info:\")\n",
    "print(f\"Organization ID: {sf.session_id}\")\n",
    "print(f\"Organization Instance: {sf.sf_instance}\")\n",
    "print(f\"Organization Domain: {sf.domain}\")\n",
    "print(f\"Current API Version: {sf.api_version}\")\n",
    "\n"
   ]
  },
  {
   "cell_type": "code",
   "execution_count": null,
   "metadata": {},
   "outputs": [],
   "source": []
  }
 ],
 "metadata": {
  "kernelspec": {
   "display_name": ".venv",
   "language": "python",
   "name": "python3"
  },
  "language_info": {
   "codemirror_mode": {
    "name": "ipython",
    "version": 3
   },
   "file_extension": ".py",
   "mimetype": "text/x-python",
   "name": "python",
   "nbconvert_exporter": "python",
   "pygments_lexer": "ipython3",
   "version": "3.12.4"
  }
 },
 "nbformat": 4,
 "nbformat_minor": 2
}
